{
 "cells": [
  {
   "cell_type": "markdown",
   "metadata": {},
   "source": [
    "# Beer Reviews"
   ]
  },
  {
   "cell_type": "markdown",
   "metadata": {},
   "source": [
    "#### This dataset appears to be a collection of various reviews of beers rated on features such as aroma, appearance etc... many different reviewers have contributed and thus some beers have been reviewed many times."
   ]
  },
  {
   "cell_type": "code",
   "execution_count": 23,
   "metadata": {},
   "outputs": [],
   "source": [
    "#Import\n",
    "import pandas as pd\n",
    "import matplotlib.pyplot as plt\n",
    "import seaborn as sns\n",
    "import numpy as np\n",
    "sns.set()"
   ]
  },
  {
   "cell_type": "code",
   "execution_count": 2,
   "metadata": {},
   "outputs": [],
   "source": [
    "df = pd.read_csv('./beer_reviews.csv')"
   ]
  },
  {
   "cell_type": "markdown",
   "metadata": {},
   "source": [
    "### Let's start with some quick data exploration."
   ]
  },
  {
   "cell_type": "code",
   "execution_count": 3,
   "metadata": {},
   "outputs": [
    {
     "data": {
      "text/html": [
       "<div>\n",
       "<style scoped>\n",
       "    .dataframe tbody tr th:only-of-type {\n",
       "        vertical-align: middle;\n",
       "    }\n",
       "\n",
       "    .dataframe tbody tr th {\n",
       "        vertical-align: top;\n",
       "    }\n",
       "\n",
       "    .dataframe thead th {\n",
       "        text-align: right;\n",
       "    }\n",
       "</style>\n",
       "<table border=\"1\" class=\"dataframe\">\n",
       "  <thead>\n",
       "    <tr style=\"text-align: right;\">\n",
       "      <th></th>\n",
       "      <th>brewery_id</th>\n",
       "      <th>brewery_name</th>\n",
       "      <th>review_time</th>\n",
       "      <th>review_overall</th>\n",
       "      <th>review_aroma</th>\n",
       "      <th>review_appearance</th>\n",
       "      <th>review_profilename</th>\n",
       "      <th>beer_style</th>\n",
       "      <th>review_palate</th>\n",
       "      <th>review_taste</th>\n",
       "      <th>beer_name</th>\n",
       "      <th>beer_abv</th>\n",
       "      <th>beer_beerid</th>\n",
       "    </tr>\n",
       "  </thead>\n",
       "  <tbody>\n",
       "    <tr>\n",
       "      <th>0</th>\n",
       "      <td>10325</td>\n",
       "      <td>Vecchio Birraio</td>\n",
       "      <td>1234817823</td>\n",
       "      <td>1.5</td>\n",
       "      <td>2.0</td>\n",
       "      <td>2.5</td>\n",
       "      <td>stcules</td>\n",
       "      <td>Hefeweizen</td>\n",
       "      <td>1.5</td>\n",
       "      <td>1.5</td>\n",
       "      <td>Sausa Weizen</td>\n",
       "      <td>5.0</td>\n",
       "      <td>47986</td>\n",
       "    </tr>\n",
       "    <tr>\n",
       "      <th>1</th>\n",
       "      <td>10325</td>\n",
       "      <td>Vecchio Birraio</td>\n",
       "      <td>1235915097</td>\n",
       "      <td>3.0</td>\n",
       "      <td>2.5</td>\n",
       "      <td>3.0</td>\n",
       "      <td>stcules</td>\n",
       "      <td>English Strong Ale</td>\n",
       "      <td>3.0</td>\n",
       "      <td>3.0</td>\n",
       "      <td>Red Moon</td>\n",
       "      <td>6.2</td>\n",
       "      <td>48213</td>\n",
       "    </tr>\n",
       "    <tr>\n",
       "      <th>2</th>\n",
       "      <td>10325</td>\n",
       "      <td>Vecchio Birraio</td>\n",
       "      <td>1235916604</td>\n",
       "      <td>3.0</td>\n",
       "      <td>2.5</td>\n",
       "      <td>3.0</td>\n",
       "      <td>stcules</td>\n",
       "      <td>Foreign / Export Stout</td>\n",
       "      <td>3.0</td>\n",
       "      <td>3.0</td>\n",
       "      <td>Black Horse Black Beer</td>\n",
       "      <td>6.5</td>\n",
       "      <td>48215</td>\n",
       "    </tr>\n",
       "    <tr>\n",
       "      <th>3</th>\n",
       "      <td>10325</td>\n",
       "      <td>Vecchio Birraio</td>\n",
       "      <td>1234725145</td>\n",
       "      <td>3.0</td>\n",
       "      <td>3.0</td>\n",
       "      <td>3.5</td>\n",
       "      <td>stcules</td>\n",
       "      <td>German Pilsener</td>\n",
       "      <td>2.5</td>\n",
       "      <td>3.0</td>\n",
       "      <td>Sausa Pils</td>\n",
       "      <td>5.0</td>\n",
       "      <td>47969</td>\n",
       "    </tr>\n",
       "    <tr>\n",
       "      <th>4</th>\n",
       "      <td>1075</td>\n",
       "      <td>Caldera Brewing Company</td>\n",
       "      <td>1293735206</td>\n",
       "      <td>4.0</td>\n",
       "      <td>4.5</td>\n",
       "      <td>4.0</td>\n",
       "      <td>johnmichaelsen</td>\n",
       "      <td>American Double / Imperial IPA</td>\n",
       "      <td>4.0</td>\n",
       "      <td>4.5</td>\n",
       "      <td>Cauldron DIPA</td>\n",
       "      <td>7.7</td>\n",
       "      <td>64883</td>\n",
       "    </tr>\n",
       "  </tbody>\n",
       "</table>\n",
       "</div>"
      ],
      "text/plain": [
       "   brewery_id             brewery_name  review_time  review_overall  \\\n",
       "0       10325          Vecchio Birraio   1234817823             1.5   \n",
       "1       10325          Vecchio Birraio   1235915097             3.0   \n",
       "2       10325          Vecchio Birraio   1235916604             3.0   \n",
       "3       10325          Vecchio Birraio   1234725145             3.0   \n",
       "4        1075  Caldera Brewing Company   1293735206             4.0   \n",
       "\n",
       "   review_aroma  review_appearance review_profilename  \\\n",
       "0           2.0                2.5            stcules   \n",
       "1           2.5                3.0            stcules   \n",
       "2           2.5                3.0            stcules   \n",
       "3           3.0                3.5            stcules   \n",
       "4           4.5                4.0     johnmichaelsen   \n",
       "\n",
       "                       beer_style  review_palate  review_taste  \\\n",
       "0                      Hefeweizen            1.5           1.5   \n",
       "1              English Strong Ale            3.0           3.0   \n",
       "2          Foreign / Export Stout            3.0           3.0   \n",
       "3                 German Pilsener            2.5           3.0   \n",
       "4  American Double / Imperial IPA            4.0           4.5   \n",
       "\n",
       "                beer_name  beer_abv  beer_beerid  \n",
       "0            Sausa Weizen       5.0        47986  \n",
       "1                Red Moon       6.2        48213  \n",
       "2  Black Horse Black Beer       6.5        48215  \n",
       "3              Sausa Pils       5.0        47969  \n",
       "4           Cauldron DIPA       7.7        64883  "
      ]
     },
     "execution_count": 3,
     "metadata": {},
     "output_type": "execute_result"
    }
   ],
   "source": [
    "df.head()"
   ]
  },
  {
   "cell_type": "code",
   "execution_count": 4,
   "metadata": {},
   "outputs": [
    {
     "data": {
      "text/html": [
       "<div>\n",
       "<style scoped>\n",
       "    .dataframe tbody tr th:only-of-type {\n",
       "        vertical-align: middle;\n",
       "    }\n",
       "\n",
       "    .dataframe tbody tr th {\n",
       "        vertical-align: top;\n",
       "    }\n",
       "\n",
       "    .dataframe thead th {\n",
       "        text-align: right;\n",
       "    }\n",
       "</style>\n",
       "<table border=\"1\" class=\"dataframe\">\n",
       "  <thead>\n",
       "    <tr style=\"text-align: right;\">\n",
       "      <th></th>\n",
       "      <th>brewery_id</th>\n",
       "      <th>review_time</th>\n",
       "      <th>review_overall</th>\n",
       "      <th>review_aroma</th>\n",
       "      <th>review_appearance</th>\n",
       "      <th>review_palate</th>\n",
       "      <th>review_taste</th>\n",
       "      <th>beer_abv</th>\n",
       "      <th>beer_beerid</th>\n",
       "    </tr>\n",
       "  </thead>\n",
       "  <tbody>\n",
       "    <tr>\n",
       "      <th>count</th>\n",
       "      <td>1.586614e+06</td>\n",
       "      <td>1.586614e+06</td>\n",
       "      <td>1.586614e+06</td>\n",
       "      <td>1.586614e+06</td>\n",
       "      <td>1.586614e+06</td>\n",
       "      <td>1.586614e+06</td>\n",
       "      <td>1.586614e+06</td>\n",
       "      <td>1.518829e+06</td>\n",
       "      <td>1.586614e+06</td>\n",
       "    </tr>\n",
       "    <tr>\n",
       "      <th>mean</th>\n",
       "      <td>3.130099e+03</td>\n",
       "      <td>1.224089e+09</td>\n",
       "      <td>3.815581e+00</td>\n",
       "      <td>3.735636e+00</td>\n",
       "      <td>3.841642e+00</td>\n",
       "      <td>3.743701e+00</td>\n",
       "      <td>3.792860e+00</td>\n",
       "      <td>7.042387e+00</td>\n",
       "      <td>2.171279e+04</td>\n",
       "    </tr>\n",
       "    <tr>\n",
       "      <th>std</th>\n",
       "      <td>5.578104e+03</td>\n",
       "      <td>7.654427e+07</td>\n",
       "      <td>7.206219e-01</td>\n",
       "      <td>6.976167e-01</td>\n",
       "      <td>6.160928e-01</td>\n",
       "      <td>6.822184e-01</td>\n",
       "      <td>7.319696e-01</td>\n",
       "      <td>2.322526e+00</td>\n",
       "      <td>2.181834e+04</td>\n",
       "    </tr>\n",
       "    <tr>\n",
       "      <th>min</th>\n",
       "      <td>1.000000e+00</td>\n",
       "      <td>8.406720e+08</td>\n",
       "      <td>0.000000e+00</td>\n",
       "      <td>1.000000e+00</td>\n",
       "      <td>0.000000e+00</td>\n",
       "      <td>1.000000e+00</td>\n",
       "      <td>1.000000e+00</td>\n",
       "      <td>1.000000e-02</td>\n",
       "      <td>3.000000e+00</td>\n",
       "    </tr>\n",
       "    <tr>\n",
       "      <th>25%</th>\n",
       "      <td>1.430000e+02</td>\n",
       "      <td>1.173224e+09</td>\n",
       "      <td>3.500000e+00</td>\n",
       "      <td>3.500000e+00</td>\n",
       "      <td>3.500000e+00</td>\n",
       "      <td>3.500000e+00</td>\n",
       "      <td>3.500000e+00</td>\n",
       "      <td>5.200000e+00</td>\n",
       "      <td>1.717000e+03</td>\n",
       "    </tr>\n",
       "    <tr>\n",
       "      <th>50%</th>\n",
       "      <td>4.290000e+02</td>\n",
       "      <td>1.239203e+09</td>\n",
       "      <td>4.000000e+00</td>\n",
       "      <td>4.000000e+00</td>\n",
       "      <td>4.000000e+00</td>\n",
       "      <td>4.000000e+00</td>\n",
       "      <td>4.000000e+00</td>\n",
       "      <td>6.500000e+00</td>\n",
       "      <td>1.390600e+04</td>\n",
       "    </tr>\n",
       "    <tr>\n",
       "      <th>75%</th>\n",
       "      <td>2.372000e+03</td>\n",
       "      <td>1.288568e+09</td>\n",
       "      <td>4.500000e+00</td>\n",
       "      <td>4.000000e+00</td>\n",
       "      <td>4.000000e+00</td>\n",
       "      <td>4.000000e+00</td>\n",
       "      <td>4.500000e+00</td>\n",
       "      <td>8.500000e+00</td>\n",
       "      <td>3.944100e+04</td>\n",
       "    </tr>\n",
       "    <tr>\n",
       "      <th>max</th>\n",
       "      <td>2.800300e+04</td>\n",
       "      <td>1.326285e+09</td>\n",
       "      <td>5.000000e+00</td>\n",
       "      <td>5.000000e+00</td>\n",
       "      <td>5.000000e+00</td>\n",
       "      <td>5.000000e+00</td>\n",
       "      <td>5.000000e+00</td>\n",
       "      <td>5.770000e+01</td>\n",
       "      <td>7.731700e+04</td>\n",
       "    </tr>\n",
       "  </tbody>\n",
       "</table>\n",
       "</div>"
      ],
      "text/plain": [
       "         brewery_id   review_time  review_overall  review_aroma  \\\n",
       "count  1.586614e+06  1.586614e+06    1.586614e+06  1.586614e+06   \n",
       "mean   3.130099e+03  1.224089e+09    3.815581e+00  3.735636e+00   \n",
       "std    5.578104e+03  7.654427e+07    7.206219e-01  6.976167e-01   \n",
       "min    1.000000e+00  8.406720e+08    0.000000e+00  1.000000e+00   \n",
       "25%    1.430000e+02  1.173224e+09    3.500000e+00  3.500000e+00   \n",
       "50%    4.290000e+02  1.239203e+09    4.000000e+00  4.000000e+00   \n",
       "75%    2.372000e+03  1.288568e+09    4.500000e+00  4.000000e+00   \n",
       "max    2.800300e+04  1.326285e+09    5.000000e+00  5.000000e+00   \n",
       "\n",
       "       review_appearance  review_palate  review_taste      beer_abv  \\\n",
       "count       1.586614e+06   1.586614e+06  1.586614e+06  1.518829e+06   \n",
       "mean        3.841642e+00   3.743701e+00  3.792860e+00  7.042387e+00   \n",
       "std         6.160928e-01   6.822184e-01  7.319696e-01  2.322526e+00   \n",
       "min         0.000000e+00   1.000000e+00  1.000000e+00  1.000000e-02   \n",
       "25%         3.500000e+00   3.500000e+00  3.500000e+00  5.200000e+00   \n",
       "50%         4.000000e+00   4.000000e+00  4.000000e+00  6.500000e+00   \n",
       "75%         4.000000e+00   4.000000e+00  4.500000e+00  8.500000e+00   \n",
       "max         5.000000e+00   5.000000e+00  5.000000e+00  5.770000e+01   \n",
       "\n",
       "        beer_beerid  \n",
       "count  1.586614e+06  \n",
       "mean   2.171279e+04  \n",
       "std    2.181834e+04  \n",
       "min    3.000000e+00  \n",
       "25%    1.717000e+03  \n",
       "50%    1.390600e+04  \n",
       "75%    3.944100e+04  \n",
       "max    7.731700e+04  "
      ]
     },
     "execution_count": 4,
     "metadata": {},
     "output_type": "execute_result"
    }
   ],
   "source": [
    "df.describe()"
   ]
  },
  {
   "cell_type": "code",
   "execution_count": 7,
   "metadata": {},
   "outputs": [
    {
     "name": "stdout",
     "output_type": "stream",
     "text": [
      "<class 'pandas.core.frame.DataFrame'>\n",
      "RangeIndex: 1586614 entries, 0 to 1586613\n",
      "Data columns (total 13 columns):\n",
      "brewery_id            1586614 non-null int64\n",
      "brewery_name          1586599 non-null object\n",
      "review_time           1586614 non-null int64\n",
      "review_overall        1586614 non-null float64\n",
      "review_aroma          1586614 non-null float64\n",
      "review_appearance     1586614 non-null float64\n",
      "review_profilename    1586266 non-null object\n",
      "beer_style            1586614 non-null object\n",
      "review_palate         1586614 non-null float64\n",
      "review_taste          1586614 non-null float64\n",
      "beer_name             1586614 non-null object\n",
      "beer_abv              1518829 non-null float64\n",
      "beer_beerid           1586614 non-null int64\n",
      "dtypes: float64(6), int64(3), object(4)\n",
      "memory usage: 157.4+ MB\n"
     ]
    }
   ],
   "source": [
    "df.info()"
   ]
  },
  {
   "cell_type": "code",
   "execution_count": 10,
   "metadata": {},
   "outputs": [
    {
     "data": {
      "text/plain": [
       "brewery_id                0\n",
       "brewery_name             15\n",
       "review_time               0\n",
       "review_overall            0\n",
       "review_aroma              0\n",
       "review_appearance         0\n",
       "review_profilename      348\n",
       "beer_style                0\n",
       "review_palate             0\n",
       "review_taste              0\n",
       "beer_name                 0\n",
       "beer_abv              67785\n",
       "beer_beerid               0\n",
       "dtype: int64"
      ]
     },
     "execution_count": 10,
     "metadata": {},
     "output_type": "execute_result"
    }
   ],
   "source": [
    "df.isnull().sum()"
   ]
  },
  {
   "cell_type": "markdown",
   "metadata": {},
   "source": [
    "### Overall this dataset appears analysis ready, with very few missing values in respect to the total number of records."
   ]
  },
  {
   "cell_type": "markdown",
   "metadata": {},
   "source": [
    "## 1. Which brewery produces the strongest beers by ABV%?"
   ]
  },
  {
   "cell_type": "markdown",
   "metadata": {},
   "source": [
    "### We can answer this question by aggregating reviews by brewery and calculating the average ABV value for each."
   ]
  },
  {
   "cell_type": "code",
   "execution_count": 10,
   "metadata": {},
   "outputs": [
    {
     "data": {
      "text/html": [
       "<div>\n",
       "<style scoped>\n",
       "    .dataframe tbody tr th:only-of-type {\n",
       "        vertical-align: middle;\n",
       "    }\n",
       "\n",
       "    .dataframe tbody tr th {\n",
       "        vertical-align: top;\n",
       "    }\n",
       "\n",
       "    .dataframe thead th {\n",
       "        text-align: right;\n",
       "    }\n",
       "</style>\n",
       "<table border=\"1\" class=\"dataframe\">\n",
       "  <thead>\n",
       "    <tr style=\"text-align: right;\">\n",
       "      <th></th>\n",
       "      <th>brewery_id</th>\n",
       "      <th>review_time</th>\n",
       "      <th>review_overall</th>\n",
       "      <th>review_aroma</th>\n",
       "      <th>review_appearance</th>\n",
       "      <th>review_palate</th>\n",
       "      <th>review_taste</th>\n",
       "      <th>beer_abv</th>\n",
       "      <th>beer_beerid</th>\n",
       "    </tr>\n",
       "    <tr>\n",
       "      <th>brewery_name</th>\n",
       "      <th></th>\n",
       "      <th></th>\n",
       "      <th></th>\n",
       "      <th></th>\n",
       "      <th></th>\n",
       "      <th></th>\n",
       "      <th></th>\n",
       "      <th></th>\n",
       "      <th></th>\n",
       "    </tr>\n",
       "  </thead>\n",
       "  <tbody>\n",
       "    <tr>\n",
       "      <th>Schorschbräu</th>\n",
       "      <td>6513.0</td>\n",
       "      <td>1.219645e+09</td>\n",
       "      <td>3.411765</td>\n",
       "      <td>3.529412</td>\n",
       "      <td>3.558824</td>\n",
       "      <td>3.470588</td>\n",
       "      <td>3.514706</td>\n",
       "      <td>19.228824</td>\n",
       "      <td>34235.676471</td>\n",
       "    </tr>\n",
       "    <tr>\n",
       "      <th>Shoes Brewery</th>\n",
       "      <td>14060.0</td>\n",
       "      <td>1.220522e+09</td>\n",
       "      <td>3.000000</td>\n",
       "      <td>3.000000</td>\n",
       "      <td>3.750000</td>\n",
       "      <td>3.500000</td>\n",
       "      <td>3.250000</td>\n",
       "      <td>15.200000</td>\n",
       "      <td>32949.000000</td>\n",
       "    </tr>\n",
       "    <tr>\n",
       "      <th>Rome Brewing Company</th>\n",
       "      <td>2873.0</td>\n",
       "      <td>1.095643e+09</td>\n",
       "      <td>4.166667</td>\n",
       "      <td>3.722222</td>\n",
       "      <td>3.777778</td>\n",
       "      <td>3.944444</td>\n",
       "      <td>4.166667</td>\n",
       "      <td>13.840000</td>\n",
       "      <td>16316.666667</td>\n",
       "    </tr>\n",
       "    <tr>\n",
       "      <th>Hurlimann Brewery</th>\n",
       "      <td>736.0</td>\n",
       "      <td>1.059959e+09</td>\n",
       "      <td>3.815789</td>\n",
       "      <td>4.342105</td>\n",
       "      <td>3.947368</td>\n",
       "      <td>4.131579</td>\n",
       "      <td>4.236842</td>\n",
       "      <td>13.750000</td>\n",
       "      <td>4341.631579</td>\n",
       "    </tr>\n",
       "    <tr>\n",
       "      <th>Alt-Oberurseler Brauhaus</th>\n",
       "      <td>10038.0</td>\n",
       "      <td>1.158903e+09</td>\n",
       "      <td>4.000000</td>\n",
       "      <td>4.000000</td>\n",
       "      <td>4.000000</td>\n",
       "      <td>4.166667</td>\n",
       "      <td>3.833333</td>\n",
       "      <td>13.200000</td>\n",
       "      <td>32879.666667</td>\n",
       "    </tr>\n",
       "  </tbody>\n",
       "</table>\n",
       "</div>"
      ],
      "text/plain": [
       "                          brewery_id   review_time  review_overall  \\\n",
       "brewery_name                                                         \n",
       "Schorschbräu                  6513.0  1.219645e+09        3.411765   \n",
       "Shoes Brewery                14060.0  1.220522e+09        3.000000   \n",
       "Rome Brewing Company          2873.0  1.095643e+09        4.166667   \n",
       "Hurlimann Brewery              736.0  1.059959e+09        3.815789   \n",
       "Alt-Oberurseler Brauhaus     10038.0  1.158903e+09        4.000000   \n",
       "\n",
       "                          review_aroma  review_appearance  review_palate  \\\n",
       "brewery_name                                                               \n",
       "Schorschbräu                  3.529412           3.558824       3.470588   \n",
       "Shoes Brewery                 3.000000           3.750000       3.500000   \n",
       "Rome Brewing Company          3.722222           3.777778       3.944444   \n",
       "Hurlimann Brewery             4.342105           3.947368       4.131579   \n",
       "Alt-Oberurseler Brauhaus      4.000000           4.000000       4.166667   \n",
       "\n",
       "                          review_taste   beer_abv   beer_beerid  \n",
       "brewery_name                                                     \n",
       "Schorschbräu                  3.514706  19.228824  34235.676471  \n",
       "Shoes Brewery                 3.250000  15.200000  32949.000000  \n",
       "Rome Brewing Company          4.166667  13.840000  16316.666667  \n",
       "Hurlimann Brewery             4.236842  13.750000   4341.631579  \n",
       "Alt-Oberurseler Brauhaus      3.833333  13.200000  32879.666667  "
      ]
     },
     "execution_count": 10,
     "metadata": {},
     "output_type": "execute_result"
    }
   ],
   "source": [
    "breweries = df.groupby(['brewery_name']).mean()\n",
    "breweries.sort_values('beer_abv', ascending = False).head()"
   ]
  },
  {
   "cell_type": "markdown",
   "metadata": {},
   "source": [
    "## Answer: Schorschbräu\tAverage ABV: 19.22%"
   ]
  },
  {
   "cell_type": "markdown",
   "metadata": {},
   "source": [
    "#### In future analysis we may want to pay some consideration to eliminating outliers, some beers have much higher ABV values relative to the rest of the sample."
   ]
  },
  {
   "cell_type": "markdown",
   "metadata": {},
   "source": [
    "## 2.    Which of the factors (aroma, taste, appearance, palette) are most important in determining the overall quality of a beer?"
   ]
  },
  {
   "cell_type": "code",
   "execution_count": 21,
   "metadata": {},
   "outputs": [
    {
     "data": {
      "image/png": "[encoded data removed]",
      "text/plain": [
       "<Figure size 432x288 with 2 Axes>"
      ]
     },
     "metadata": {},
     "output_type": "display_data"
    }
   ],
   "source": [
    "facts = df[['review_overall',\n",
    "            'review_aroma',\n",
    "            'review_taste',\n",
    "            'review_appearance',\n",
    "            'review_palate'\n",
    "           ]]\n",
    "\n",
    "sns.heatmap(facts.corr(), \n",
    "            xticklabels=corr.columns.values,\n",
    "            yticklabels=corr.columns.values,\n",
    "           annot=True)\n",
    "plt.show()"
   ]
  },
  {
   "cell_type": "markdown",
   "metadata": {},
   "source": [
    "## Answer: Taste has the highest correlation to overall score (.79)"
   ]
  },
  {
   "cell_type": "markdown",
   "metadata": {},
   "source": [
    "## 3.    I typically enjoy a beer due to its aroma and appearance, which beer style should I try?"
   ]
  },
  {
   "cell_type": "markdown",
   "metadata": {},
   "source": [
    "#### To answer this we can group by beer style and calculate an aggregate mean score of aroma and appearance. The highest score is the suggested beer style."
   ]
  },
  {
   "cell_type": "code",
   "execution_count": 50,
   "metadata": {},
   "outputs": [
    {
     "data": {
      "text/html": [
       "<div>\n",
       "<style scoped>\n",
       "    .dataframe tbody tr th:only-of-type {\n",
       "        vertical-align: middle;\n",
       "    }\n",
       "\n",
       "    .dataframe tbody tr th {\n",
       "        vertical-align: top;\n",
       "    }\n",
       "\n",
       "    .dataframe thead th {\n",
       "        text-align: right;\n",
       "    }\n",
       "</style>\n",
       "<table border=\"1\" class=\"dataframe\">\n",
       "  <thead>\n",
       "    <tr style=\"text-align: right;\">\n",
       "      <th></th>\n",
       "      <th>review_aroma</th>\n",
       "      <th>review_appearance</th>\n",
       "      <th>agg_mean</th>\n",
       "    </tr>\n",
       "    <tr>\n",
       "      <th>beer_style</th>\n",
       "      <th></th>\n",
       "      <th></th>\n",
       "      <th></th>\n",
       "    </tr>\n",
       "  </thead>\n",
       "  <tbody>\n",
       "    <tr>\n",
       "      <th>American Double / Imperial Stout</th>\n",
       "      <td>4.160665</td>\n",
       "      <td>4.163633</td>\n",
       "      <td>4.162149</td>\n",
       "    </tr>\n",
       "  </tbody>\n",
       "</table>\n",
       "</div>"
      ],
      "text/plain": [
       "                                  review_aroma  review_appearance  agg_mean\n",
       "beer_style                                                                 \n",
       "American Double / Imperial Stout      4.160665           4.163633  4.162149"
      ]
     },
     "execution_count": 50,
     "metadata": {},
     "output_type": "execute_result"
    }
   ],
   "source": [
    "aroma_appearance = df[['beer_style',\n",
    "                      'review_aroma',\n",
    "                      'review_appearance']]\n",
    "\n",
    "agg = aroma_appearance.groupby('beer_style').agg({'review_aroma': np.mean,\n",
    "                                                 'review_appearance': np.mean})\n",
    "agg['agg_mean'] = (agg['review_aroma'] + agg['review_appearance'])/2 \n",
    "agg.sort_values(('agg_mean'), ascending=False).head(1)"
   ]
  },
  {
   "cell_type": "markdown",
   "metadata": {},
   "source": [
    "## Answer: American Double / Imperial Stout"
   ]
  },
  {
   "cell_type": "markdown",
   "metadata": {},
   "source": [
    "## 4.    If I typically enjoy Scottish Ales, what other beer style might I like?"
   ]
  },
  {
   "cell_type": "code",
   "execution_count": 36,
   "metadata": {},
   "outputs": [
    {
     "data": {
      "text/plain": [
       "review_aroma         3.611354\n",
       "review_appearance    3.806362\n",
       "review_taste         3.713949\n",
       "review_palate        3.661831\n",
       "beer_abv             5.731270\n",
       "Name: Scottish Ale, dtype: float64"
      ]
     },
     "execution_count": 36,
     "metadata": {},
     "output_type": "execute_result"
    }
   ],
   "source": [
    "all_facts = df.groupby('beer_style').agg({'review_aroma': np.mean,\n",
    "                              'review_appearance': np.mean,\n",
    "                              'review_taste': np.mean,\n",
    "                              'review_palate': np.mean,\n",
    "                              'beer_abv': np.mean})\n",
    "all_facts.loc['Scottish Ale']"
   ]
  },
  {
   "cell_type": "code",
   "execution_count": 49,
   "metadata": {},
   "outputs": [
    {
     "data": {
      "text/html": [
       "<div>\n",
       "<style scoped>\n",
       "    .dataframe tbody tr th:only-of-type {\n",
       "        vertical-align: middle;\n",
       "    }\n",
       "\n",
       "    .dataframe tbody tr th {\n",
       "        vertical-align: top;\n",
       "    }\n",
       "\n",
       "    .dataframe thead th {\n",
       "        text-align: right;\n",
       "    }\n",
       "</style>\n",
       "<table border=\"1\" class=\"dataframe\">\n",
       "  <thead>\n",
       "    <tr style=\"text-align: right;\">\n",
       "      <th></th>\n",
       "      <th>review_aroma</th>\n",
       "      <th>review_appearance</th>\n",
       "      <th>review_taste</th>\n",
       "      <th>review_palate</th>\n",
       "      <th>beer_abv</th>\n",
       "    </tr>\n",
       "    <tr>\n",
       "      <th>beer_style</th>\n",
       "      <th></th>\n",
       "      <th></th>\n",
       "      <th></th>\n",
       "      <th></th>\n",
       "      <th></th>\n",
       "    </tr>\n",
       "  </thead>\n",
       "  <tbody>\n",
       "    <tr>\n",
       "      <th>Altbier</th>\n",
       "      <td>3.624015</td>\n",
       "      <td>3.809327</td>\n",
       "      <td>3.744865</td>\n",
       "      <td>3.713086</td>\n",
       "      <td>5.828578</td>\n",
       "    </tr>\n",
       "    <tr>\n",
       "      <th>English Porter</th>\n",
       "      <td>3.841652</td>\n",
       "      <td>3.935446</td>\n",
       "      <td>3.909866</td>\n",
       "      <td>3.788661</td>\n",
       "      <td>5.691896</td>\n",
       "    </tr>\n",
       "    <tr>\n",
       "      <th>Extra Special / Strong Bitter (ESB)</th>\n",
       "      <td>3.640512</td>\n",
       "      <td>3.833285</td>\n",
       "      <td>3.757989</td>\n",
       "      <td>3.717610</td>\n",
       "      <td>5.768085</td>\n",
       "    </tr>\n",
       "    <tr>\n",
       "      <th>Milk / Sweet Stout</th>\n",
       "      <td>3.832713</td>\n",
       "      <td>3.960922</td>\n",
       "      <td>3.894501</td>\n",
       "      <td>3.797661</td>\n",
       "      <td>5.792455</td>\n",
       "    </tr>\n",
       "    <tr>\n",
       "      <th>Märzen / Oktoberfest</th>\n",
       "      <td>3.504698</td>\n",
       "      <td>3.719912</td>\n",
       "      <td>3.643009</td>\n",
       "      <td>3.634719</td>\n",
       "      <td>5.866271</td>\n",
       "    </tr>\n",
       "    <tr>\n",
       "      <th>Rauchbier</th>\n",
       "      <td>3.946744</td>\n",
       "      <td>3.868753</td>\n",
       "      <td>3.893488</td>\n",
       "      <td>3.781424</td>\n",
       "      <td>5.732731</td>\n",
       "    </tr>\n",
       "    <tr>\n",
       "      <th>Roggenbier</th>\n",
       "      <td>3.834764</td>\n",
       "      <td>3.824034</td>\n",
       "      <td>3.919528</td>\n",
       "      <td>3.825107</td>\n",
       "      <td>5.623139</td>\n",
       "    </tr>\n",
       "    <tr>\n",
       "      <th>Scottish Ale</th>\n",
       "      <td>3.611354</td>\n",
       "      <td>3.806362</td>\n",
       "      <td>3.713949</td>\n",
       "      <td>3.661831</td>\n",
       "      <td>5.731270</td>\n",
       "    </tr>\n",
       "    <tr>\n",
       "      <th>Scottish Gruit / Ancient Herbed Ale</th>\n",
       "      <td>3.741367</td>\n",
       "      <td>3.647037</td>\n",
       "      <td>3.745729</td>\n",
       "      <td>3.633406</td>\n",
       "      <td>5.857622</td>\n",
       "    </tr>\n",
       "  </tbody>\n",
       "</table>\n",
       "</div>"
      ],
      "text/plain": [
       "                                     review_aroma  review_appearance  \\\n",
       "beer_style                                                             \n",
       "Altbier                                  3.624015           3.809327   \n",
       "English Porter                           3.841652           3.935446   \n",
       "Extra Special / Strong Bitter (ESB)      3.640512           3.833285   \n",
       "Milk / Sweet Stout                       3.832713           3.960922   \n",
       "Märzen / Oktoberfest                     3.504698           3.719912   \n",
       "Rauchbier                                3.946744           3.868753   \n",
       "Roggenbier                               3.834764           3.824034   \n",
       "Scottish Ale                             3.611354           3.806362   \n",
       "Scottish Gruit / Ancient Herbed Ale      3.741367           3.647037   \n",
       "\n",
       "                                     review_taste  review_palate  beer_abv  \n",
       "beer_style                                                                  \n",
       "Altbier                                  3.744865       3.713086  5.828578  \n",
       "English Porter                           3.909866       3.788661  5.691896  \n",
       "Extra Special / Strong Bitter (ESB)      3.757989       3.717610  5.768085  \n",
       "Milk / Sweet Stout                       3.894501       3.797661  5.792455  \n",
       "Märzen / Oktoberfest                     3.643009       3.634719  5.866271  \n",
       "Rauchbier                                3.893488       3.781424  5.732731  \n",
       "Roggenbier                               3.919528       3.825107  5.623139  \n",
       "Scottish Ale                             3.713949       3.661831  5.731270  \n",
       "Scottish Gruit / Ancient Herbed Ale      3.745729       3.633406  5.857622  "
      ]
     },
     "execution_count": 49,
     "metadata": {},
     "output_type": "execute_result"
    }
   ],
   "source": [
    "all_facts.query('(3.5 <= review_aroma <= 4.0) & (3.5 <= review_appearance <= 4.0) & (3.5 <= review_taste <= 4.0) & (3.5 <= review_palate <= 4.0) & (5.5 <= beer_abv <= 6.0)')"
   ]
  },
  {
   "cell_type": "markdown",
   "metadata": {},
   "source": [
    "### Using a fuzzy query we can isolate beer styles with a similar average review score for each various feature and a similar average ABV, any of these beer styles might be suitable for a Scottish Ale enthusiast."
   ]
  },
  {
   "cell_type": "markdown",
   "metadata": {},
   "source": [
    "## 5.    Lastly, if you had to pick 3 beers to recommend using only this data, which would you pick?"
   ]
  },
  {
   "cell_type": "markdown",
   "metadata": {},
   "source": [
    "#### Using only this data we should isolate the top 3 highest rated beers and recommend those. In order to build a more robust recommendation system we would need to know some preference data from a user. "
   ]
  },
  {
   "cell_type": "markdown",
   "metadata": {},
   "source": [
    "#### In order to use more reliable overrall review scores we should only select beers that have a decent number of reviews. Let's get an idea of the distribution in terms of number of reviews per beer."
   ]
  },
  {
   "cell_type": "code",
   "execution_count": 91,
   "metadata": {},
   "outputs": [
    {
     "name": "stderr",
     "output_type": "stream",
     "text": [
      "c:\\python36\\lib\\site-packages\\ipykernel_launcher.py:2: SettingWithCopyWarning: \n",
      "A value is trying to be set on a copy of a slice from a DataFrame.\n",
      "Try using .loc[row_indexer,col_indexer] = value instead\n",
      "\n",
      "See the caveats in the documentation: http://pandas.pydata.org/pandas-docs/stable/indexing.html#indexing-view-versus-copy\n",
      "  \n"
     ]
    }
   ],
   "source": [
    "reviews = df[['beer_beerid', 'beer_name', 'review_overall']]\n",
    "reviews['review_count'] = reviews.groupby('beer_beerid')['review_overall'].transform('count')"
   ]
  },
  {
   "cell_type": "code",
   "execution_count": 92,
   "metadata": {},
   "outputs": [
    {
     "data": {
      "image/png": "[encoded data removed]",
      "text/plain": [
       "<Figure size 432x288 with 1 Axes>"
      ]
     },
     "metadata": {},
     "output_type": "display_data"
    }
   ],
   "source": [
    "reviews.review_count.hist(bins=100)\n",
    "plt.xlabel('Number of Reviews')\n",
    "plt.show()"
   ]
  },
  {
   "cell_type": "markdown",
   "metadata": {},
   "source": [
    "#### I am going to select 100 reviews as the threshold for beers to consider recommending based on overrall score. This will include ~70% of the beers reviewed in the dataset."
   ]
  },
  {
   "cell_type": "code",
   "execution_count": 84,
   "metadata": {},
   "outputs": [
    {
     "data": {
      "text/plain": [
       "beer_beerid       70.564296\n",
       "review_overall    70.564296\n",
       "review_count      70.564296\n",
       "dtype: float64"
      ]
     },
     "execution_count": 84,
     "metadata": {},
     "output_type": "execute_result"
    }
   ],
   "source": [
    "reviews.query('review_count >= 100').count()/df['beer_beerid'].count()*100"
   ]
  },
  {
   "cell_type": "markdown",
   "metadata": {},
   "source": [
    "#### We can now find the beers with the highest average overall review score that were reviewed atleast 100 times."
   ]
  },
  {
   "cell_type": "code",
   "execution_count": 112,
   "metadata": {},
   "outputs": [
    {
     "name": "stderr",
     "output_type": "stream",
     "text": [
      "c:\\python36\\lib\\site-packages\\ipykernel_launcher.py:1: SettingWithCopyWarning: \n",
      "A value is trying to be set on a copy of a slice from a DataFrame.\n",
      "Try using .loc[row_indexer,col_indexer] = value instead\n",
      "\n",
      "See the caveats in the documentation: http://pandas.pydata.org/pandas-docs/stable/indexing.html#indexing-view-versus-copy\n",
      "  \"\"\"Entry point for launching an IPython kernel.\n"
     ]
    },
    {
     "data": {
      "text/html": [
       "<div>\n",
       "<style scoped>\n",
       "    .dataframe tbody tr th:only-of-type {\n",
       "        vertical-align: middle;\n",
       "    }\n",
       "\n",
       "    .dataframe tbody tr th {\n",
       "        vertical-align: top;\n",
       "    }\n",
       "\n",
       "    .dataframe thead th {\n",
       "        text-align: right;\n",
       "    }\n",
       "</style>\n",
       "<table border=\"1\" class=\"dataframe\">\n",
       "  <thead>\n",
       "    <tr style=\"text-align: right;\">\n",
       "      <th></th>\n",
       "      <th>beer_beerid</th>\n",
       "      <th>beer_name</th>\n",
       "      <th>review_overall</th>\n",
       "      <th>review_count</th>\n",
       "      <th>overall_mean</th>\n",
       "    </tr>\n",
       "  </thead>\n",
       "  <tbody>\n",
       "    <tr>\n",
       "      <th>334855</th>\n",
       "      <td>56082</td>\n",
       "      <td>Citra DIPA</td>\n",
       "      <td>4.0</td>\n",
       "      <td>252</td>\n",
       "      <td>4.630952</td>\n",
       "    </tr>\n",
       "    <tr>\n",
       "      <th>482051</th>\n",
       "      <td>36316</td>\n",
       "      <td>Cantillon Blåbær Lambik</td>\n",
       "      <td>5.0</td>\n",
       "      <td>156</td>\n",
       "      <td>4.628205</td>\n",
       "    </tr>\n",
       "    <tr>\n",
       "      <th>378243</th>\n",
       "      <td>16814</td>\n",
       "      <td>Heady Topper</td>\n",
       "      <td>4.5</td>\n",
       "      <td>469</td>\n",
       "      <td>4.625800</td>\n",
       "    </tr>\n",
       "  </tbody>\n",
       "</table>\n",
       "</div>"
      ],
      "text/plain": [
       "        beer_beerid                beer_name  review_overall  review_count  \\\n",
       "334855        56082               Citra DIPA             4.0           252   \n",
       "482051        36316  Cantillon Blåbær Lambik             5.0           156   \n",
       "378243        16814             Heady Topper             4.5           469   \n",
       "\n",
       "        overall_mean  \n",
       "334855      4.630952  \n",
       "482051      4.628205  \n",
       "378243      4.625800  "
      ]
     },
     "execution_count": 112,
     "metadata": {},
     "output_type": "execute_result"
    }
   ],
   "source": [
    "reviews['overall_mean'] = reviews.groupby('beer_beerid')['review_overall'].transform('mean')\n",
    "over100 = reviews.query('review_count >= 100').groupby('beer_beerid')\n",
    "over100.head(1).sort_values('overall_mean', ascending = False).head(3)"
   ]
  },
  {
   "cell_type": "markdown",
   "metadata": {},
   "source": [
    "## Answer: 3 Recommended beers are (Citra DIPA, Cantillon Blåbær Lambik, Heady Topper )"
   ]
  }
 ],
 "metadata": {
  "kernelspec": {
   "display_name": "Python 3",
   "language": "python",
   "name": "python3"
  },
  "language_info": {
   "codemirror_mode": {
    "name": "ipython",
    "version": 3
   },
   "file_extension": ".py",
   "mimetype": "text/x-python",
   "name": "python",
   "nbconvert_exporter": "python",
   "pygments_lexer": "ipython3",
   "version": "3.6.4"
  }
 },
 "nbformat": 4,
 "nbformat_minor": 2
}
